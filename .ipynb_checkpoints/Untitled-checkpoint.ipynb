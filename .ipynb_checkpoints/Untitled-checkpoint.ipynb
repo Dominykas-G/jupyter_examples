{
 "cells": [
  {
   "cell_type": "markdown",
   "id": "d1ef1a91-50f6-4f41-aac0-f88722fd1bab",
   "metadata": {},
   "source": [
    "This is markdown."
   ]
  },
  {
   "cell_type": "code",
   "execution_count": 2,
   "id": "b3d8f403-516c-44dc-8f9f-618aaf3139d2",
   "metadata": {},
   "outputs": [
    {
     "data": {
      "text/plain": [
       "4"
      ]
     },
     "execution_count": 2,
     "metadata": {},
     "output_type": "execute_result"
    }
   ],
   "source": [
    "2+2"
   ]
  }
 ],
 "metadata": {
  "kernelspec": {
   "display_name": "Python 3 (ipykernel)",
   "language": "python",
   "name": "python3"
  },
  "language_info": {
   "codemirror_mode": {
    "name": "ipython",
    "version": 3
   },
   "file_extension": ".py",
   "mimetype": "text/x-python",
   "name": "python",
   "nbconvert_exporter": "python",
   "pygments_lexer": "ipython3",
   "version": "3.12.4"
  }
 },
 "nbformat": 4,
 "nbformat_minor": 5
}
