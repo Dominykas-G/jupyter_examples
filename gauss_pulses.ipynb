{
 "cells": [
  {
   "cell_type": "markdown",
   "id": "d1ef1a91-50f6-4f41-aac0-f88722fd1bab",
   "metadata": {},
   "source": [
    "Why do we see higher harmonics on the diode when we work with femtosecond pulses? The answer lies in the Fourier transform of the pulse train. To demonstrate this numerically, we can start by importing required libraries."
   ]
  },
  {
   "cell_type": "code",
   "execution_count": 15,
   "id": "b41cbd61",
   "metadata": {},
   "outputs": [],
   "source": [
    "import matplotlib.pyplot as plt # used for plotting\n",
    "import numpy as np # used to get Fourier transform\n",
    "import math\n",
    "import ipywidgets as widgets # used for interactive graphs\n",
    "from ipywidgets import interact # used for interactive graphs"
   ]
  },
  {
   "cell_type": "markdown",
   "id": "a2681ea7",
   "metadata": {},
   "source": [
    "Later, we define speed of light $c$ and pulse intensity full width at half maximum (FWHM) duration $\\tau_{\\mathrm{FWHM}}$ for our Gaussian shaped pulse. However, Gaussian function is typically defined trough normal distribution $\\sigma_{t}$ which is related to FWHM value: $\\tau_{\\mathrm{FWHM}} = 2 \\sigma \\sqrt{2 \\ln 2}$. "
   ]
  },
  {
   "cell_type": "code",
   "execution_count": 16,
   "id": "a6893500",
   "metadata": {},
   "outputs": [],
   "source": [
    "# Constants\n",
    "c = 299792458  # Speed of light in m/s\n",
    "FWHM_intensity = 250e-15  # FWHM of intensity in seconds\n",
    "line_thickness = 1  # Line thickness for plotting\n",
    "sigma_t = FWHM_intensity / (2 * np.sqrt(2 * np.log(2)))  # Standard deviation of I(t)\n",
    "t = np.linspace(-50000e-15, 50000e-15, 5000)  # Time array around pulse center"
   ]
  },
  {
   "cell_type": "markdown",
   "id": "256922b9",
   "metadata": {},
   "source": [
    "We define our single intensity pulse\n",
    "$$ \n",
    "    I(t) = \\exp{\\left( \\frac{-t^{2}}{2\\sigma_{t}^{2}} \\right)}\n",
    "$$\n",
    "We also leave the ability to add additional pulses with time offset $I(t) = I(t-t_{0}) + I(t-t_{1}) + ... + I(t-t_{n})$. We then perform Fourier transform of the intensity and plot the absolute value of a new complex function in the frequency domain.\n",
    "$$\n",
    "\\hat{I}(f) = \\mathcal{F}[I(t)]\n",
    "$$\n",
    "\n",
    "\n"
   ]
  },
  {
   "cell_type": "code",
   "execution_count": null,
   "id": "da0117df",
   "metadata": {},
   "outputs": [],
   "source": [
    "def time_frequency_plot(number_of_pulses, period):\n",
    "    I_t = np.exp(-(t)**2 / (2 * sigma_t**2))\n",
    "\n",
    "    for pulse_no in range(1, int(math.floor(number_of_pulses/2)+1)):\n",
    "        \n",
    "        I_t += np.exp(-(t+period*pulse_no)**2 / (2 * sigma_t**2))\n",
    "        I_t += np.exp(-(t-period*pulse_no)**2 / (2 * sigma_t**2))\n",
    "\n",
    "\n",
    "    f = np.fft.fftfreq(t.size, d=(t[1] - t[0]))  # Frequency array\n",
    "    I_f = np.fft.fft(I_t)  # Fourier transform of I(t)\n",
    "    f = np.fft.fftshift(f)  # Shift zero frequency to center\n",
    "    I_f = np.fft.fftshift(I_f)  # Shift corresponding I(f)\n",
    "\n",
    "    I_t /= np.max(np.abs(I_t)) # Function normalziation in the time domain\n",
    "    I_f /= np.max(np.abs(I_f)) # Function normalziation in the frequency domain\n",
    "\n",
    "    _, ax = plt.subplots(2, 1, figsize=(10,7))\n",
    "\n",
    "    ax[0].plot(t * 1e12, I_t, linewidth=line_thickness)  # Real part of E(t)\n",
    "    ax[0].set_xlabel(\"Time, [ps]\")\n",
    "    ax[1].set_xlim([0, 5])\n",
    "    ax[1].plot(f*10e-13, abs(I_f), linewidth=line_thickness)  # Real part of E(t)\n",
    "    ax[1].set_xlabel(\"Frequency, [THz]\")\n"
   ]
  },
  {
   "cell_type": "code",
   "execution_count": 14,
   "id": "427e20ff",
   "metadata": {},
   "outputs": [
    {
     "data": {
      "application/vnd.jupyter.widget-view+json": {
       "model_id": "515e04672e2e429ba3c494a0d388196b",
       "version_major": 2,
       "version_minor": 0
      },
      "text/plain": [
       "interactive(children=(IntSlider(value=1, description='No. of pulses', max=21, min=1, step=2), FloatSlider(valu…"
      ]
     },
     "metadata": {},
     "output_type": "display_data"
    },
    {
     "data": {
      "text/plain": [
       "<function __main__.time_frequency_plot(number_of_pulses, period)>"
      ]
     },
     "execution_count": 14,
     "metadata": {},
     "output_type": "execute_result"
    }
   ],
   "source": [
    "interact(time_frequency_plot, number_of_pulses = widgets.IntSlider(value=1, min=1, max=21, step=2, description = \"No. of pulses\"), period = widgets.FloatSlider(value=4000e-15, min=2000e-15, max=10000e-15, step=1000e-15, description=\"Pulse period\"))"
   ]
  }
 ],
 "metadata": {
  "kernelspec": {
   "display_name": "Python 3",
   "language": "python",
   "name": "python3"
  },
  "language_info": {
   "codemirror_mode": {
    "name": "ipython",
    "version": 3
   },
   "file_extension": ".py",
   "mimetype": "text/x-python",
   "name": "python",
   "nbconvert_exporter": "python",
   "pygments_lexer": "ipython3",
   "version": "3.12.4"
  }
 },
 "nbformat": 4,
 "nbformat_minor": 5
}
